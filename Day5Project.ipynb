{
 "cells": [
  {
   "cell_type": "code",
   "execution_count": 8,
   "id": "725da954",
   "metadata": {},
   "outputs": [
    {
     "name": "stdout",
     "output_type": "stream",
     "text": [
      "Welcome to your Password Generator!\n",
      "How many letters in the passsword?\n",
      "10\n",
      "How many numbers in the passsword?\n",
      "2\n",
      "How many symbols in the passsword?\n",
      "2\n",
      "Your password is: Mp1aKZwKt7#&Ym\n"
     ]
    }
   ],
   "source": [
    "print(f\"Welcome to your Password Generator!\")\n",
    "print(f\"How many letters in the passsword?\")\n",
    "lettersint=int(input())\n",
    "print(f\"How many numbers in the passsword?\")\n",
    "symbolsint=int(input())\n",
    "print(f\"How many symbols in the passsword?\")\n",
    "numbersint=int(input())\n",
    "\n",
    "import random\n",
    "\n",
    "letters = ['a', 'b', 'c', 'd', 'e', 'f', 'g', 'h', 'i', 'j', 'k', 'l', 'm', 'n', 'o', 'p', 'q', 'r', 's', 't', 'u', 'v', 'w', 'x', 'y', 'z', 'A', 'B', 'C', 'D', 'E', 'F', 'G', 'H', 'I', 'J', 'K', 'L', 'M', 'N', 'O', 'P', 'Q', 'R', 'S', 'T', 'U', 'V', 'W', 'X', 'Y', 'Z']\n",
    "numbers = ['0', '1', '2', '3', '4', '5', '6', '7', '8', '9']\n",
    "symbols = ['!', '#', '$', '%', '&', '(', ')', '*', '+']\n",
    "password_list = []\n",
    "\n",
    "for char in range(1, lettersint + 1):\n",
    "  password_list.append(random.choice(letters))\n",
    "\n",
    "for char in range(1, symbolsint + 1):\n",
    "  password_list += random.choice(symbols)\n",
    "\n",
    "for char in range(1, numbersint + 1):\n",
    "  password_list += random.choice(numbers)\n",
    "\n",
    "random.shuffle(password_list)\n",
    "\n",
    "password = \"\"\n",
    "for char in password_list:\n",
    "  password += char\n",
    "\n",
    "print(f\"Your password is: {password}\")\n"
   ]
  },
  {
   "cell_type": "code",
   "execution_count": null,
   "id": "124e0350",
   "metadata": {},
   "outputs": [],
   "source": []
  }
 ],
 "metadata": {
  "kernelspec": {
   "display_name": "Python 3 (ipykernel)",
   "language": "python",
   "name": "python3"
  },
  "language_info": {
   "codemirror_mode": {
    "name": "ipython",
    "version": 3
   },
   "file_extension": ".py",
   "mimetype": "text/x-python",
   "name": "python",
   "nbconvert_exporter": "python",
   "pygments_lexer": "ipython3",
   "version": "3.11.5"
  }
 },
 "nbformat": 4,
 "nbformat_minor": 5
}
